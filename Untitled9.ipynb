{
 "cells": [
  {
   "cell_type": "markdown",
   "metadata": {},
   "source": [
    "# Analysing election data using Pandas\n",
    "\n",
    "Before you start you need Pandas/Numpy.\n",
    "The best way to do this is to install Anaconda.\n",
    "\n",
    "[Download here](https://www.continuum.io/downloads)\n"
   ]
  },
  {
   "cell_type": "code",
   "execution_count": null,
   "metadata": {
    "collapsed": true
   },
   "outputs": [],
   "source": [
    "import pandas as pd\n",
    "import numpy as np\n"
   ]
  },
  {
   "cell_type": "markdown",
   "metadata": {},
   "source": [
    "# Get the data\n",
    "\n",
    "this is really easy with Pandas as you don't have to \n",
    "think about what file format you use. The source files\n",
    "are available on different sites. \n",
    "\n",
    "\n",
    "\n",
    "[Election results here](https://www.data.gouv.fr/fr/datasets/election-presidentielle-des-23-avril-et-7-mai-2017-resultats-du-1er-tour-1/)\n",
    "\n",
    "which gives the circonscriptions by code but not the GPS data.\n",
    "So we will have to add this from another source\n",
    "\n",
    "[Postal codes are available here](https://www.data.gouv.fr/fr/datasets/base-officielle-des-codes-postaux/)\n",
    "\n",
    "\n",
    "This takes a bit of googling as they aren't well referenced.\n"
   ]
  },
  {
   "cell_type": "markdown",
   "metadata": {},
   "source": [
    "# Gotchas\n",
    "\n",
    "There are 2 parameters we have to set otherwise the data is FUBAR\n",
    "\n",
    "1. The separator for the csv file - which isn't a comma **sep= ';'**\n",
    "2. Skip the first 3 lines in the .xls as they are BS **skiprows=3**"
   ]
  },
  {
   "cell_type": "code",
   "execution_count": 4,
   "metadata": {
    "collapsed": false
   },
   "outputs": [],
   "source": [
    "dd = pd.read_csv( '/Users/macbuse/Desktop/ELECTIONS FRANCE/correspondance-code-insee-code-postal.csv', sep= ';'  )"
   ]
  },
  {
   "cell_type": "code",
   "execution_count": 5,
   "metadata": {
    "collapsed": false
   },
   "outputs": [],
   "source": [
    "pp = pd.read_excel('/Users/macbuse/Desktop/ELECTIONS FRANCE/Presidentielle_2017_Resultats_Communes_Tour_1.xls',\n",
    "                   skiprows=3)"
   ]
  },
  {
   "cell_type": "markdown",
   "metadata": {},
   "source": [
    "# Dipping in\n",
    "\n",
    "We can get a view of the first few lines just to see what the column names are.<br>\n",
    "Then we can access column data:\n",
    "\n",
    "- using that name by copy paste\n",
    "- or by  an index "
   ]
  },
  {
   "cell_type": "code",
   "execution_count": 8,
   "metadata": {
    "collapsed": false
   },
   "outputs": [
    {
     "data": {
      "text/html": [
       "<div>\n",
       "<table border=\"1\" class=\"dataframe\">\n",
       "  <thead>\n",
       "    <tr style=\"text-align: right;\">\n",
       "      <th></th>\n",
       "      <th>Code INSEE</th>\n",
       "      <th>Code Postal</th>\n",
       "      <th>Commune</th>\n",
       "      <th>Département</th>\n",
       "      <th>Région</th>\n",
       "      <th>Statut</th>\n",
       "      <th>Altitude Moyenne</th>\n",
       "      <th>Superficie</th>\n",
       "      <th>Population</th>\n",
       "      <th>geo_point_2d</th>\n",
       "      <th>geo_shape</th>\n",
       "      <th>ID Geofla</th>\n",
       "      <th>Code Commune</th>\n",
       "      <th>Code Canton</th>\n",
       "      <th>Code Arrondissement</th>\n",
       "      <th>Code Département</th>\n",
       "      <th>Code Région</th>\n",
       "    </tr>\n",
       "  </thead>\n",
       "  <tbody>\n",
       "    <tr>\n",
       "      <th>0</th>\n",
       "      <td>32460</td>\n",
       "      <td>32720</td>\n",
       "      <td>VERGOIGNAN</td>\n",
       "      <td>GERS</td>\n",
       "      <td>MIDI-PYRENEES</td>\n",
       "      <td>Commune simple</td>\n",
       "      <td>126</td>\n",
       "      <td>1056</td>\n",
       "      <td>0.3</td>\n",
       "      <td>43.7235746425, -0.188266221507</td>\n",
       "      <td>{\"type\": \"Polygon\", \"coordinates\": [[[-0.19884...</td>\n",
       "      <td>34962</td>\n",
       "      <td>460</td>\n",
       "      <td>24</td>\n",
       "      <td>3</td>\n",
       "      <td>32</td>\n",
       "      <td>73</td>\n",
       "    </tr>\n",
       "    <tr>\n",
       "      <th>1</th>\n",
       "      <td>51141</td>\n",
       "      <td>51240</td>\n",
       "      <td>LA CHAUSSEE-SUR-MARNE</td>\n",
       "      <td>MARNE</td>\n",
       "      <td>CHAMPAGNE-ARDENNE</td>\n",
       "      <td>Commune simple</td>\n",
       "      <td>130</td>\n",
       "      <td>2240</td>\n",
       "      <td>0.7</td>\n",
       "      <td>48.8433156105, 4.54286173009</td>\n",
       "      <td>{\"type\": \"Polygon\", \"coordinates\": [[[4.504753...</td>\n",
       "      <td>18178</td>\n",
       "      <td>141</td>\n",
       "      <td>33</td>\n",
       "      <td>4</td>\n",
       "      <td>51</td>\n",
       "      <td>21</td>\n",
       "    </tr>\n",
       "    <tr>\n",
       "      <th>2</th>\n",
       "      <td>77130</td>\n",
       "      <td>77580</td>\n",
       "      <td>COULOMMES</td>\n",
       "      <td>SEINE-ET-MARNE</td>\n",
       "      <td>ILE-DE-FRANCE</td>\n",
       "      <td>Commune simple</td>\n",
       "      <td>136</td>\n",
       "      <td>371</td>\n",
       "      <td>0.4</td>\n",
       "      <td>48.8919104938, 2.92942534432</td>\n",
       "      <td>{\"type\": \"Polygon\", \"coordinates\": [[[2.940606...</td>\n",
       "      <td>31737</td>\n",
       "      <td>130</td>\n",
       "      <td>8</td>\n",
       "      <td>1</td>\n",
       "      <td>77</td>\n",
       "      <td>11</td>\n",
       "    </tr>\n",
       "  </tbody>\n",
       "</table>\n",
       "</div>"
      ],
      "text/plain": [
       "  Code INSEE Code Postal                Commune     Département  \\\n",
       "0      32460       32720             VERGOIGNAN            GERS   \n",
       "1      51141       51240  LA CHAUSSEE-SUR-MARNE           MARNE   \n",
       "2      77130       77580              COULOMMES  SEINE-ET-MARNE   \n",
       "\n",
       "              Région          Statut  Altitude Moyenne  Superficie  \\\n",
       "0      MIDI-PYRENEES  Commune simple               126        1056   \n",
       "1  CHAMPAGNE-ARDENNE  Commune simple               130        2240   \n",
       "2      ILE-DE-FRANCE  Commune simple               136         371   \n",
       "\n",
       "   Population                    geo_point_2d  \\\n",
       "0         0.3  43.7235746425, -0.188266221507   \n",
       "1         0.7    48.8433156105, 4.54286173009   \n",
       "2         0.4    48.8919104938, 2.92942534432   \n",
       "\n",
       "                                           geo_shape  ID Geofla  Code Commune  \\\n",
       "0  {\"type\": \"Polygon\", \"coordinates\": [[[-0.19884...      34962           460   \n",
       "1  {\"type\": \"Polygon\", \"coordinates\": [[[4.504753...      18178           141   \n",
       "2  {\"type\": \"Polygon\", \"coordinates\": [[[2.940606...      31737           130   \n",
       "\n",
       "   Code Canton  Code Arrondissement Code Département  Code Région  \n",
       "0           24                    3               32           73  \n",
       "1           33                    4               51           21  \n",
       "2            8                    1               77           11  "
      ]
     },
     "execution_count": 8,
     "metadata": {},
     "output_type": "execute_result"
    }
   ],
   "source": [
    "dd[:3]\n"
   ]
  },
  {
   "cell_type": "markdown",
   "metadata": {},
   "source": [
    "# Extracting a subset of the data\n",
    "\n",
    "- we aren't going to need all the data so we will select some columns by index.\n",
    "- we will also rename some columns so that it matches with the GPS data\n",
    "\n",
    "\n",
    "\n"
   ]
  },
  {
   "cell_type": "code",
   "execution_count": null,
   "metadata": {
    "collapsed": true
   },
   "outputs": [],
   "source": [
    "cols = [0,2]\n",
    "cols.extend([20 + 7 *k for k in range(5)])\n",
    "\n",
    "pp.rename(columns={u'Code du département': 'Code Département',\n",
    "                    'Code de la commune' :'Code Commune'},\n",
    "                    inplace=True)\n",
    "results = pp[cols]\n",
    "results.sort_values(by=['Code Département','Code Commune'], ascending=[True, True])[:5]"
   ]
  },
  {
   "cell_type": "markdown",
   "metadata": {
    "collapsed": false
   },
   "source": [
    "and the GPS data looks like this"
   ]
  },
  {
   "cell_type": "code",
   "execution_count": 9,
   "metadata": {
    "collapsed": false
   },
   "outputs": [
    {
     "data": {
      "text/html": [
       "<div>\n",
       "<table border=\"1\" class=\"dataframe\">\n",
       "  <thead>\n",
       "    <tr style=\"text-align: right;\">\n",
       "      <th></th>\n",
       "      <th>Code Département</th>\n",
       "      <th>Code Commune</th>\n",
       "      <th>geo_point_2d</th>\n",
       "    </tr>\n",
       "  </thead>\n",
       "  <tbody>\n",
       "    <tr>\n",
       "      <th>28626</th>\n",
       "      <td>01</td>\n",
       "      <td>1</td>\n",
       "      <td>46.1534255214, 4.92611354223</td>\n",
       "    </tr>\n",
       "    <tr>\n",
       "      <th>34845</th>\n",
       "      <td>01</td>\n",
       "      <td>2</td>\n",
       "      <td>46.0091878776, 5.42801696363</td>\n",
       "    </tr>\n",
       "    <tr>\n",
       "      <th>22048</th>\n",
       "      <td>01</td>\n",
       "      <td>4</td>\n",
       "      <td>45.9608475114, 5.3729257777</td>\n",
       "    </tr>\n",
       "  </tbody>\n",
       "</table>\n",
       "</div>"
      ],
      "text/plain": [
       "      Code Département  Code Commune                  geo_point_2d\n",
       "28626               01             1  46.1534255214, 4.92611354223\n",
       "34845               01             2  46.0091878776, 5.42801696363\n",
       "22048               01             4   45.9608475114, 5.3729257777"
      ]
     },
     "execution_count": 9,
     "metadata": {},
     "output_type": "execute_result"
    }
   ],
   "source": [
    "gps = dd[['Code Département', 'Code Commune','geo_point_2d']]\n",
    "gps.sort_values(by=['Code Département', 'Code Commune'], ascending=[True, True])[:3]"
   ]
  },
  {
   "cell_type": "markdown",
   "metadata": {},
   "source": [
    "# Getting longitude and latitude\n",
    "\n",
    "The **geo_point_2d** data is a string so we have to split this\n",
    "and convert the result to floatting point.\n",
    "Actually we make a list \n",
    "- with entries( hash , [longitude, latitude]) \n",
    "- the hash is  **'Code Département' + 'Code Commune'** \n"
   ]
  },
  {
   "cell_type": "code",
   "execution_count": 22,
   "metadata": {
    "collapsed": false
   },
   "outputs": [],
   "source": [
    "gps2 = [ (str(x['Code Département']) +  str(x['Code Commune']), \n",
    "                                     [ float(t) for t in x['geo_point_2d'].split(',')] ) for ix, x in gps.iterrows() ]"
   ]
  },
  {
   "cell_type": "markdown",
   "metadata": {},
   "source": [
    "...now we have to creata a lookup table for the coordinates. <br>\n",
    "This is a Python dictionnary\n",
    "\n",
    "\n",
    "\n",
    "\n",
    "\n"
   ]
  },
  {
   "cell_type": "code",
   "execution_count": 23,
   "metadata": {
    "collapsed": true
   },
   "outputs": [],
   "source": [
    "gps2 = dict(gps2)"
   ]
  },
  {
   "cell_type": "markdown",
   "metadata": {},
   "source": [
    "# Making new columns\n",
    "\n",
    "Now we have to make lists which contain the \n",
    "column data for longitudes and latitudes.\n",
    "\n",
    "If there is no entry corresponding to the hash\n",
    "then set the entry to **nan = not a number**\n"
   ]
  },
  {
   "cell_type": "code",
   "execution_count": 25,
   "metadata": {
    "collapsed": false
   },
   "outputs": [],
   "source": [
    "\n",
    "gps_col = []\n",
    "for ix,x in results.iterrows():\n",
    "    dc = str(x['Code Département'])\n",
    "    #add a preceding 0 if single digit\n",
    "    if len(dc) < 2:\n",
    "        dc = '0' + dc\n",
    "        \n",
    "    kk =  dc +  str(x['Code Commune']) \n",
    "    #hash not found\n",
    "    if kk not in gps2:\n",
    "        gps_col.append([float('nan')]*2)\n",
    "        continue\n",
    "    gps_col.append(gps2[kk])\n",
    "\n",
    "lng,lat = zip(*gps_col)"
   ]
  },
  {
   "cell_type": "markdown",
   "metadata": {},
   "source": [
    "adding the columns is simple "
   ]
  },
  {
   "cell_type": "code",
   "execution_count": 27,
   "metadata": {
    "collapsed": false
   },
   "outputs": [],
   "source": [
    "results.loc[:,'long'] = pd.Series(lng, index=results.index)\n",
    "results.loc[:,'lat'] = pd.Series(lat, index=results.index)"
   ]
  },
  {
   "cell_type": "markdown",
   "metadata": {},
   "source": [
    "and lets look at things to see they are OK"
   ]
  },
  {
   "cell_type": "code",
   "execution_count": 34,
   "metadata": {
    "collapsed": false
   },
   "outputs": [
    {
     "data": {
      "text/html": [
       "<div>\n",
       "<table border=\"1\" class=\"dataframe\">\n",
       "  <thead>\n",
       "    <tr style=\"text-align: right;\">\n",
       "      <th></th>\n",
       "      <th>Code Département</th>\n",
       "      <th>Code Commune</th>\n",
       "      <th>Nom</th>\n",
       "      <th>Nom.1</th>\n",
       "      <th>Nom.2</th>\n",
       "      <th>Nom.3</th>\n",
       "      <th>Nom.4</th>\n",
       "      <th>long</th>\n",
       "      <th>lat</th>\n",
       "    </tr>\n",
       "  </thead>\n",
       "  <tbody>\n",
       "    <tr>\n",
       "      <th>0</th>\n",
       "      <td>1</td>\n",
       "      <td>1</td>\n",
       "      <td>LE PEN</td>\n",
       "      <td>MACRON</td>\n",
       "      <td>FILLON</td>\n",
       "      <td>MÉLENCHON</td>\n",
       "      <td>DUPONT-AIGNAN</td>\n",
       "      <td>46.153426</td>\n",
       "      <td>4.926114</td>\n",
       "    </tr>\n",
       "    <tr>\n",
       "      <th>1</th>\n",
       "      <td>1</td>\n",
       "      <td>2</td>\n",
       "      <td>LE PEN</td>\n",
       "      <td>MACRON</td>\n",
       "      <td>FILLON</td>\n",
       "      <td>MÉLENCHON</td>\n",
       "      <td>HAMON</td>\n",
       "      <td>46.009188</td>\n",
       "      <td>5.428017</td>\n",
       "    </tr>\n",
       "    <tr>\n",
       "      <th>2</th>\n",
       "      <td>1</td>\n",
       "      <td>4</td>\n",
       "      <td>LE PEN</td>\n",
       "      <td>MÉLENCHON</td>\n",
       "      <td>MACRON</td>\n",
       "      <td>FILLON</td>\n",
       "      <td>DUPONT-AIGNAN</td>\n",
       "      <td>45.960848</td>\n",
       "      <td>5.372926</td>\n",
       "    </tr>\n",
       "  </tbody>\n",
       "</table>\n",
       "</div>"
      ],
      "text/plain": [
       "  Code Département  Code Commune     Nom      Nom.1   Nom.2      Nom.3  \\\n",
       "0                1             1  LE PEN     MACRON  FILLON  MÉLENCHON   \n",
       "1                1             2  LE PEN     MACRON  FILLON  MÉLENCHON   \n",
       "2                1             4  LE PEN  MÉLENCHON  MACRON     FILLON   \n",
       "\n",
       "           Nom.4       long       lat  \n",
       "0  DUPONT-AIGNAN  46.153426  4.926114  \n",
       "1          HAMON  46.009188  5.428017  \n",
       "2  DUPONT-AIGNAN  45.960848  5.372926  "
      ]
     },
     "execution_count": 34,
     "metadata": {},
     "output_type": "execute_result"
    }
   ],
   "source": [
    "results[:3]\n"
   ]
  },
  {
   "cell_type": "markdown",
   "metadata": {
    "collapsed": false
   },
   "source": [
    "Now we can extract data for plotting\n",
    "\n"
   ]
  },
  {
   "cell_type": "code",
   "execution_count": 43,
   "metadata": {
    "collapsed": false
   },
   "outputs": [],
   "source": [
    "nan = float('nan')\n",
    "ham = results.loc[(results['Nom'] == u'HAMON')  & (results['long'] != nan)]\n",
    "fil = results.loc[(results['Nom'] == u'FILLON')  & (results['long'] != nan)]"
   ]
  },
  {
   "cell_type": "code",
   "execution_count": 45,
   "metadata": {
    "collapsed": false
   },
   "outputs": [
    {
     "data": {
      "image/png": "[encoded data removed]",
      "text/plain": [
       "<matplotlib.figure.Figure at 0x11ed04f50>"
      ]
     },
     "metadata": {},
     "output_type": "display_data"
    }
   ],
   "source": [
    "import matplotlib.pylab as plt\n",
    "\n",
    "%matplotlib inline\n",
    "# df is a DataFrame: fetch col1 and col2 \n",
    "# and drop na rows if any of the columns are NA\n",
    "mydata = fil[[\"lat\", \"long\"]].dropna(how=\"any\")\n",
    "# Now plot with matplotlib\n",
    "vals = mydata.values\n",
    "plt.scatter(vals[:, 0], vals[:, 1])\n",
    "\n",
    "plt.axes().set_aspect('equal', 'datalim')\n"
   ]
  },
  {
   "cell_type": "markdown",
   "metadata": {
    "collapsed": false
   },
   "source": [
    "# Geometric data \n",
    "\n",
    "There is actually a geometric representation of \n",
    "each circonscription that is easy to plot. <br>\n",
    "It should be possible to look for possible\n",
    "**gerrymandering** using this."
   ]
  },
  {
   "cell_type": "code",
   "execution_count": 47,
   "metadata": {
    "collapsed": false
   },
   "outputs": [
    {
     "data": {
      "text/plain": [
       "'{\"type\": \"Polygon\", \"coordinates\": [[[-0.198840174520842, 43.70794322452202], [-0.222235915236875, 43.71887029533192], [-0.19414330237234, 43.737016685694684], [-0.180792917516703, 43.73392241336569], [-0.166464609500636, 43.74073425722042], [-0.158609760122906, 43.733001456816694], [-0.165604514951094, 43.72182035935971], [-0.17757883861499, 43.71205146251945], [-0.198840174520842, 43.70794322452202]]]}'"
      ]
     },
     "execution_count": 47,
     "metadata": {},
     "output_type": "execute_result"
    }
   ],
   "source": [
    "dd['geo_shape'][0]"
   ]
  },
  {
   "cell_type": "markdown",
   "metadata": {},
   "source": [
    "the best way to extract the data is to read it to store it to a variable using **exec**"
   ]
  },
  {
   "cell_type": "code",
   "execution_count": 48,
   "metadata": {
    "collapsed": true
   },
   "outputs": [],
   "source": [
    "exec('mpoly=' + dd['geo_shape'][1])\n",
    "lon, lat = zip(*mpoly['coordinates'][0])"
   ]
  },
  {
   "cell_type": "code",
   "execution_count": 49,
   "metadata": {
    "collapsed": false
   },
   "outputs": [
    {
     "data": {
      "text/plain": [
       "[<matplotlib.lines.Line2D at 0x11386cdd0>]"
      ]
     },
     "execution_count": 49,
     "metadata": {},
     "output_type": "execute_result"
    },
    {
     "data": {
      "image/png": "[encoded data removed]",
      "text/plain": [
       "<matplotlib.figure.Figure at 0x116eeb790>"
      ]
     },
     "metadata": {},
     "output_type": "display_data"
    }
   ],
   "source": [
    "\n",
    "plt.plot(lon,lat)"
   ]
  },
  {
   "cell_type": "code",
   "execution_count": null,
   "metadata": {
    "collapsed": false
   },
   "outputs": [],
   "source": [
    "\n"
   ]
  },
  {
   "cell_type": "code",
   "execution_count": 177,
   "metadata": {
    "collapsed": true
   },
   "outputs": [],
   "source": [
    "\n"
   ]
  },
  {
   "cell_type": "code",
   "execution_count": null,
   "metadata": {
    "collapsed": false
   },
   "outputs": [],
   "source": []
  },
  {
   "cell_type": "code",
   "execution_count": null,
   "metadata": {
    "collapsed": true
   },
   "outputs": [],
   "source": []
  }
 ],
 "metadata": {
  "kernelspec": {
   "display_name": "Python 2",
   "language": "python",
   "name": "python2"
  },
  "language_info": {
   "codemirror_mode": {
    "name": "ipython",
    "version": 2
   },
   "file_extension": ".py",
   "mimetype": "text/x-python",
   "name": "python",
   "nbconvert_exporter": "python",
   "pygments_lexer": "ipython2",
   "version": "2.7.11"
  }
 },
 "nbformat": 4,
 "nbformat_minor": 0
}
